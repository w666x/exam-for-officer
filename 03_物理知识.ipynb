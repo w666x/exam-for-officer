{
 "cells": [
  {
   "cell_type": "markdown",
   "metadata": {},
   "source": [
    "### 势能"
   ]
  },
  {
   "cell_type": "markdown",
   "metadata": {},
   "source": [
    "#### 弹性势能"
   ]
  },
  {
   "cell_type": "markdown",
   "metadata": {},
   "source": [
    "- 定义\n",
    "    - **发生弹性形变的物体的各部分之间，由于有弹力的相互作用，也具有势能**，这种势能叫做弹性势能（elastic potential energy）。\n",
    "    - 同一弹性物体在一定范围内形变越大，具有的弹性势能就越多，反之，则越小。\n",
    "    - 弹力做功与弹性势能变化的关系：**弹性势能是弹力做功转化而来，弹力做正功，弹性势能减少，弹力做负功，弹性势能增加。**\n",
    "\n",
    "\n",
    "- 公式计算\n",
    "    -  $\\color{red}{\\int_x^0-kxdx = \\frac{1}{2}kx^2}$其中，k为弹性系数，x为形变量。注意：此公式中的x 必须在弹簧的弹性限度内。\n",
    "   \n",
    "   \n",
    "- 弹性势能和重力势能的关系\n",
    "    - **弹性势能可与动能直接相互转化，但不能与重力势能直接转化**。\n",
    "    - 核心或实质：（势能和动能间之间可直接转化，但势能不能与势能直接相互转化，就是说不可能在动能不变的情况下转化）"
   ]
  },
  {
   "cell_type": "markdown",
   "metadata": {},
   "source": [
    "#### 重力势能"
   ]
  },
  {
   "cell_type": "markdown",
   "metadata": {},
   "source": [
    "- 定义\n",
    "    - 重力势能：物体由于被举高而具有的能叫做重力势能。这里的举高不是字面意思，而是相对高度，也可以理解为相对距离，同样重力也不仅仅指地球重力，月球上也一样有重力势能。\n",
    "    - 由上可以得知，重力势能主要的影响因素如下：**重力越大，物体被举得越高，质量越大，具有的重力势能就越大。**\n",
    "    \n",
    "    \n",
    "- 重力势能和动能的关系\n",
    "    - 动能表达式$\\color{red}{E_k=\\frac{(mv^2)}{2}},\\text{其中m为物体的质量，v是物体的运动速度。}$\n",
    "    - 重力势能：$\\color{red}{E_p = mgh}, \\text{其中m为物体的质量，g是重力加速度，h是高度。}$\n",
    "    - 在相互转换中，$\\color{red}{\\frac{(mv^2)}{2} = mgh}, \\text{去掉m，（v^2）/2 = gh}$,所以在我看来势能和动能之间的转换就是加速度距离和速度的转变过程\n",
    "    \n",
    "    "
   ]
  },
  {
   "cell_type": "markdown",
   "metadata": {},
   "source": [
    "#### 机械能"
   ]
  },
  {
   "cell_type": "markdown",
   "metadata": {},
   "source": [
    "- 机械能\n",
    "    - **机械能是动能与势能的总和，这里的势能分为重力势能和弹性势能。**\n",
    "    - 我们把动能、重力势能和弹性势能统称为机械能。\n",
    "    - 决定动能的是质量与速度；决定重力势能的是质量和高度；决定弹性势能的是劲度系数与形变量。\n",
    "    - 机械能只是动能与势能的和。机械能是表示物体运动状态与高度的物理量。\n",
    "    - 物体的动能和势能之间是可以转化的。**在只有动能和势能相互转化的过程中，机械能的总量保持不变，即机械能是守恒的。**\n",
    "    - $\\color{red}{E=\\frac{(mv^2)}{2} + mgh}$"
   ]
  },
  {
   "cell_type": "markdown",
   "metadata": {},
   "source": [
    "### 做工和功率"
   ]
  },
  {
   "cell_type": "markdown",
   "metadata": {},
   "source": [
    "#### 做工"
   ]
  },
  {
   "cell_type": "markdown",
   "metadata": {},
   "source": [
    "- 功的定义：如果一个物体受到力的作用，并在力的方向上发生了一段位移，我们就说这个力对物体做了功。\n",
    "- 功的计算公式：$\\color{red}{W=F*S}$（其中W是功，F是力，S是在力的方向上的距离）\n",
    "- 功率的定义：功率是指物体在单位时间内所做的功的多少，即功率是描述做功快慢的物理量。\n",
    "- 功率的计算公式：$\\color{red}{P=W/t=F*V}$（其中P是功率，W是功，t是时间，F是力的大小，V是速度）\n",
    "\n",
    "- 平均功率和瞬时功率\n",
    "    - 功率计算公式：$$\\begin{align} P&=W/t（平均功率）\\\\ \n",
    "    P&=FV （瞬时功率）\\\\\n",
    "    P&=FVcosα（瞬时功率）\\text{其中，P表示功率，W表示功，t表示时间}\n",
    "    \\end{align}\n",
    "    $$"
   ]
  },
  {
   "cell_type": "markdown",
   "metadata": {},
   "source": [
    "### 摩擦力和浮力"
   ]
  },
  {
   "cell_type": "markdown",
   "metadata": {},
   "source": [
    "#### 摩擦力"
   ]
  },
  {
   "cell_type": "markdown",
   "metadata": {},
   "source": [
    "[摩擦力](https://baike.baidu.com/item/摩擦力)\n",
    "- 摩擦力\n",
    "    - 两个相互接触并挤压的物体，当它们发生**相对运动或具有相对运动趋势时**，就会在接触面上产生阻碍相对运动或相对运动趋势的力，这种力叫做摩擦力\n",
    "    - 摩擦力的方向与物体相对运动或相对运动趋势的方向相反\n",
    "   \n",
    "   \n",
    "- 静摩擦力\n",
    "    - 摩擦力内最大的区分是静摩擦力与其它摩擦力之间的区别\n",
    "    - 两个物体相互接触并相互挤压，而又相对静止的物体，在外力作用下如只具有相对滑动趋势，而又未发生相对滑动，则它们接触面之间出现的阻碍发生相对滑动的力，（**两个相互接触的物体将要发生而尚未发生相对运动时产生的摩擦力**）叫做静摩擦力。\n",
    "    - 一个物体相对它随外力的变化而变化，当静摩擦力增大到最大静摩擦时，物体就会运动起来。大小：静摩擦力根据外力而变化，但有一个最大值，叫做最大静摩擦力。**最大静摩擦力略大于滑动摩擦力**。方向：跟接触面相切，跟相对运动趋势的方向相反。"
   ]
  },
  {
   "cell_type": "markdown",
   "metadata": {},
   "source": [
    "#### 摩擦力计算公式\n",
    "- 滑动摩擦力\n",
    "    - 滑动摩擦力的大小计算公式为$\\color{red}{f =μN}$ ,式中的μ叫动摩擦因数,也叫滑动摩擦系数,它只跟材料、接触面粗糙程度有关,注意跟接触面积无关；N为正压力;\n",
    "    - 滑动摩擦力大小与物体运动的快慢无关，与物体间接触面积大小无关;\n",
    "\n",
    "\n",
    "- 静摩擦力\n",
    "    - 最大静摩擦力比滑动摩擦力略大"
   ]
  },
  {
   "cell_type": "markdown",
   "metadata": {},
   "source": [
    "#### 浮力"
   ]
  },
  {
   "cell_type": "markdown",
   "metadata": {},
   "source": [
    "- 定义\n",
    "    - 浸在流体内的物体受到**流体竖直向上托起的作用力叫作浮力**。浮力指物体在流体（液体和气体）中，各表面受流体压力的差（合力）\n",
    "    - **物体在液体中所受浮力的大小，只跟它浸在液体中的体积和液体的密度有关**，与物体本身的密度、运动状态、浸没在液体中的深度等因素无关\n",
    "    \n",
    "\n",
    "- 浮力的计算公式\n",
    "    - 浮力的定义式为$F_浮=G_排, \\text{（即物体所受的浮力等于物体下沉静止后排开液体的重力）}$，\n",
    "    - 计算可用它推导出公式$\\color{red}{F_浮=ρ_液gV_排}$ <br>（ρ液表示液体的密度，单位为千克/立方米；g表示常数，是重力与质量的比值，g=9.8N/kg在粗略计算时可取10N/kg；V排表示排开液体的体积，单位为立方米）"
   ]
  },
  {
   "cell_type": "markdown",
   "metadata": {},
   "source": [
    "### 压强"
   ]
  },
  {
   "cell_type": "markdown",
   "metadata": {},
   "source": [
    "#### 液体压强\n",
    "\n",
    "- 水的压强公式\n",
    "    - 液体压强公式：液体压强压强公式为:$\\color{red}{P=ρgh}$。将水的密度代入公式即可计算得出水中的压强。\n",
    "\n",
    "\n",
    "- 液体压强的特性\n",
    "    - 1、液体除了对容器底部产生压强外，还对“限制”它流动的侧壁产生压强。固体则只对其支承面产生压强，方向总是与支承面垂直。\n",
    "    - 2、在液体内部向各个方向都有压强，**在同一深度向各个方向的压强都相等**。同种液体，深度越深，压强越大。\n",
    "    - 3、计算液体压强的公式是p=ρgh。可见，**液体压强的大小只取决于液体的种类(即密度ρ)和深度h**，而和液体的质量、体积没有直接的关系。\n",
    "    \n",
    "\n",
    "- 容器底部的压强\n",
    "    - 容器底部受到液体的压力跟液体的重力不一定相等。\n",
    "    - 容器底部受到液体的压力$\\color{red}{F=PS=ρghS}$,其中P是杯底水的压强，“h”底面积为S，“hS”为高度为h的液柱的体积"
   ]
  }
 ],
 "metadata": {
  "kernelspec": {
   "display_name": "Python 3",
   "language": "python",
   "name": "python3"
  },
  "language_info": {
   "codemirror_mode": {
    "name": "ipython",
    "version": 3
   },
   "file_extension": ".py",
   "mimetype": "text/x-python",
   "name": "python",
   "nbconvert_exporter": "python",
   "pygments_lexer": "ipython3",
   "version": "3.6.8"
  },
  "toc": {
   "base_numbering": 1,
   "nav_menu": {},
   "number_sections": true,
   "sideBar": true,
   "skip_h1_title": false,
   "title_cell": "Table of Contents",
   "title_sidebar": "Contents",
   "toc_cell": false,
   "toc_position": {},
   "toc_section_display": true,
   "toc_window_display": true
  },
  "varInspector": {
   "cols": {
    "lenName": 16,
    "lenType": 16,
    "lenVar": 40
   },
   "kernels_config": {
    "python": {
     "delete_cmd_postfix": "",
     "delete_cmd_prefix": "del ",
     "library": "var_list.py",
     "varRefreshCmd": "print(var_dic_list())"
    },
    "r": {
     "delete_cmd_postfix": ") ",
     "delete_cmd_prefix": "rm(",
     "library": "var_list.r",
     "varRefreshCmd": "cat(var_dic_list()) "
    }
   },
   "types_to_exclude": [
    "module",
    "function",
    "builtin_function_or_method",
    "instance",
    "_Feature"
   ],
   "window_display": false
  }
 },
 "nbformat": 4,
 "nbformat_minor": 4
}
