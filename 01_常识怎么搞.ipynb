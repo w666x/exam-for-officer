{
 "cells": [
  {
   "cell_type": "markdown",
   "metadata": {},
   "source": [
    "#### 常识题的误区\n",
    "- 花很多时间去背常识要点\n",
    "- 直接放弃常识\n",
    "- [常识题](https://www.zhihu.com/question/349643487)"
   ]
  },
  {
   "cell_type": "markdown",
   "metadata": {},
   "source": [
    "#### 猜题大法\n",
    "- 提高常识正确率的方法\n",
    "- 确定题目不会做的时候才用\n",
    "- 能一定程度提高正确率（毕竟不是按直觉猜25%）"
   ]
  },
  {
   "cell_type": "markdown",
   "metadata": {},
   "source": [
    "##### 3大命题原则"
   ]
  },
  {
   "cell_type": "markdown",
   "metadata": {},
   "source": [
    "- 应知应会原则：\n",
    "    - $\\color{red}{考察的应该是考生知道的知识}$，若遇到答案非常专业化的信息：~~比如：法律年限从3年替换到2年的~~ 一般不是正确答案\n",
    "- 细节规避原则：\n",
    "    - $\\color{red}{一些内容选项非常细的点成为正确选项的可能性也不大。}$~~比如：法律年限从3年替换到2年的~~ 一般不是正确答案\n",
    "- 考试公平原则：\n",
    "    - $\\color{red}{确保所有考生在考试中是公平的}$。~~若出现某几个省份可能熟悉而其他省份陌生的信息~~一般不是正确答案"
   ]
  },
  {
   "cell_type": "markdown",
   "metadata": {},
   "source": [
    "##### 五个推理方法"
   ]
  },
  {
   "cell_type": "markdown",
   "metadata": {},
   "source": [
    "- 排除法\n",
    "- 联想法\n",
    "    - 带入生活中的具体例子，根据正常人情世故来选择同题干相近的选项~~王某3月1日与用人单位签订劳动合同，3月5日正式上班，劳动关系自3月1日起建立~~，建立劳动关系就发工资，还得交公积金，提前的话不大合适吧；\n",
    "- 去同存异法\n",
    "    - 若选项中两个内容或者特征大致相同的，就可以将其排除掉；相反，若有两个正反矛盾的选项，一般情况下就会是一对一错；\n",
    "- 绝对词法\n",
    "    - 题干中有\"所有\"，\"全部\"，\"任何\"等绝对化的词语，一般排除，~~比如，全面停止军队有偿服务活动~~\n",
    "- 逻辑置换法\n",
    "    - 选项中，有内容构成是:由A变成B的，很可能是迷惑项~~比如：军委机关由多部门制改为总部制~~，这种由什么改成什么的，就要小心了。"
   ]
  },
  {
   "cell_type": "markdown",
   "metadata": {},
   "source": [
    "##### 常识技巧\n",
    "- 虽然比较少的题目可以用到，但用到就是赚到嘛"
   ]
  },
  {
   "cell_type": "markdown",
   "metadata": {},
   "source": [
    "- $\\color{red}{语气过于绝对的，指代过于明确的，涉及比较的，慎选}$\n",
    "    - ~~我国的出口贸易额在“金砖四国”中位居**第二**~~\n",
    "    - ~~我国目前是二十国集团中**唯一的**亚洲发展中国家~~\n",
    "    - ~~我国已与周边**所有邻国**建立正式的外交关系~~\n",
    "- $\\color{red}{等价选项，没有本质区别的选项要排除}$\n",
    "    - ~~卖豆子的农民应该在制成盆景时卖出~~\n",
    "    - ~~卖豆子的农民应该在结出豆子时卖出~~　\n",
    "- $\\color{red}{符合常理，符合主流价值观}$\n",
    "    - ~~为惩戒失信执行人，规定其不得以财产支付子女就读高等院校的费用~~"
   ]
  }
 ],
 "metadata": {
  "jupytext": {
   "formats": "ipynb,md"
  },
  "kernelspec": {
   "display_name": "Python 3",
   "language": "python",
   "name": "python3"
  },
  "language_info": {
   "codemirror_mode": {
    "name": "ipython",
    "version": 3
   },
   "file_extension": ".py",
   "mimetype": "text/x-python",
   "name": "python",
   "nbconvert_exporter": "python",
   "pygments_lexer": "ipython3",
   "version": "3.6.8"
  },
  "toc": {
   "base_numbering": 1,
   "nav_menu": {},
   "number_sections": true,
   "sideBar": true,
   "skip_h1_title": false,
   "title_cell": "Table of Contents",
   "title_sidebar": "Contents",
   "toc_cell": false,
   "toc_position": {},
   "toc_section_display": true,
   "toc_window_display": true
  }
 },
 "nbformat": 4,
 "nbformat_minor": 4
}
