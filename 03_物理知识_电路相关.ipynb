{
 "cells": [
  {
   "cell_type": "markdown",
   "metadata": {},
   "source": [
    "# 电路相关\n",
    "[电流、电压、电阻、功率的关系](https://zhuanlan.zhihu.com/p/29303706)\\\n",
    "\n",
    "## 一、电流、电压、电阻、功率关系式\n",
    "- 电流、电压、电阻、功率等参数间有以下换算关系。\n",
    "\n",
    "```markdown\n",
    "功率=电流*电压\n",
    "电流=电压/电阻\n",
    "功率：符号P单位W；\n",
    "电压：符号U单位V；\n",
    "电阻：符号R单位Ω；\n",
    "电流：符号I单位A；\n",
    "```"
   ]
  },
  {
   "cell_type": "markdown",
   "metadata": {},
   "source": [
    "- 二、电流、电压、电阻、功率在通用电路中的关联关系\n",
    "\n",
    "### 1、串联电路关联特性~~（等电流）~~\n",
    "\n",
    "```markdown\n",
    "在串联电路中电流、电压、电阻、功率等主要由以下关联关系。\n",
    "　　电流处处相等：I1=I2=I；\n",
    "　　总电压等于各用电器两端电压之和：U=U1+U2；\n",
    "　　总电阻等于各电阻之和：R=R1+R2；\n",
    "　　电路中电器两端电压之比等于电阻之比：U1：U2=R1：R2；\n",
    "　　总电功等于各电功之和：W=W1+W2；\n",
    "　　各电功之比等于电阻之比和端电压之比：W1：W2=R1：R2=U1：U2；\n",
    "　　各功率之比等于电阻之比和端电压之比：P1：P2=R1：R2=U1：U2；\n",
    "　　总功率等于各功率之和：P=P1+P2。\n",
    "```\n",
    "\n",
    "### 2、并联电路关联特性~~（等电压）~~\n",
    "    \n",
    "```markdown\n",
    "　　总电流等于各处电流之和：I=I1+I2；\n",
    "　　各处电压相等：U1=U2=U；\n",
    "　　总电阻等于各电阻之积除以各电阻之和：R=(R1R2)/(R1+R2)；\n",
    "　　总电功等于各电功之和：W=W1+W2；\n",
    "　　电流之比等于电阻反比：I1：I2=R2：R1；\n",
    "　　各电功之比等于电流之比和电阻反比：W1：W2=I1：I2=R2：R1；\n",
    "　　各功率之比等于电阻反比和电流之比：P1：P2=R2：R1=I1：I2；\n",
    "　　总功率等于各功率之和 P=P1+P2。\n",
    "```"
   ]
  },
  {
   "cell_type": "markdown",
   "metadata": {},
   "source": [
    "- 3、线路功率负荷相关计算式\n",
    "    - **功率的基本计算公式为——功率W(P)=电流A(I)*电压V(U)。**"
   ]
  },
  {
   "cell_type": "markdown",
   "metadata": {},
   "source": [
    "## 电功和电热知识归纳\n",
    "[电功和电热](https://zhongkao.koolearn.com/20200210/954275.html)\\\n",
    "\n",
    "### 电阻定义\n",
    "- ① 电阻等于材料密度乘以(长度除以横截面积)：R=$\\rho$*(L/S)；\n",
    "- ② 电阻等于电压除以电流：R=U/I ；\n",
    "- ③ 电阻等于电压平方除以电功率：R=U^2/P；\n",
    "\n",
    "### 电功定义\n",
    "- 1.电功(W)：电流所做的功叫电功，\n",
    "- 2.电功的单位：国际单位：焦耳。常用单位有：度(千瓦时)，$\\color{red}换算\\text{1度=1千瓦时=3.6*10^6焦耳}$。\n",
    "- 3.测量电功的工具：电能表(电度表)\n",
    "- 4.电功计算公式：$\\color{red}{W=UIt}$(式中单位W:焦(J);U:伏(V);I:安(A);t:秒)。\n",
    "- 5.利用W=UIt计算电功时注意：\n",
    "    - ①式中的W,U,I和t是在同一段电路;\n",
    "    - ②计算时单位要统一;\n",
    "    - ③已知任意的三个量都可以求出第四个量。\n",
    "- 6.计算电功还可用以下公式：$\\color{red}{W=I^2Rt;W=Pt;W=UQ}$(Q是电量);\n",
    "\n",
    "\n",
    "### 电功率定义\n",
    "- 7.电功率(P)：电流在单位时间内做的功。单位有：瓦特(国际);常用单位有：千瓦\n",
    "- 8.计算电功率公式：P=UI = W/t(式中单位P→瓦(w);W→焦;t→秒;U→伏(V);I→安(A)\n",
    "- 9.利用计算时单位要统一，①如果W用焦、t用秒，则P的单位是瓦;②如果W用千瓦时、t用小时，则P的单位是千瓦。\n",
    "- 10.计算电功率还可用右公式：$P=I^2R$和$P=U^2/R$\n",
    "- 11.额定电压(U0)：用电器正常工作的电压。\n",
    "- 12.额定功率(P0)：用电器在额定电压下的功率。\n",
    "- 13.实际电压(U)：实际加在用电器两端的电压。\n",
    "- 14.实际功率(P)：用电器在实际电压下的功率。\n",
    "    - (同一个电阻或灯炮，接在不同的电压下使用，则有;如：\n",
    "    - 当实际电压是额定电压的一半时，则实际功率就是额定功率的1/4。\n",
    "    - 例“220V100W”是表示额定电压是220伏，额定功率是100瓦的灯泡如果接在110伏的电路中，则实际功率是25瓦。)\n",
    "\n",
    "\n",
    "### 电热\n",
    "- 15.焦耳定律：电流通过导体产生的热量，与电流的平方成正比，与导体的电阻成正比，与通电时间成正比。\n",
    "- 16.焦耳定律公式：$\\color{red}{Q=I^2Rt}$，(式中单位Q→焦;I→安(A);R→欧($\\Omega$);t→秒。)\n",
    "- 17.当电流通过导体做的功(电功)全部用来产生热量(电热)，则有W=Q，可用电功公式来计算Q。(如电热器，电阻就是这样的。)\n",
    "    \n",
    "    \n",
    "### 用电常识    \n",
    "- 18.家庭电路由：进户线→电能表→总开关→保险盒→用电器。\n",
    "- 19.两根进户线是火线和零线，它们之间的电压是220伏，可用测电笔来判别。<br> $\\color{red}火线\\text{如果测电笔中氖管发光，则所测的是火线，不发光的是零线。}$\n",
    "- 20.所有家用电器和插座都是并联的。而开关则要与它所控制的用电器串联。\n",
    "- 21.$\\color{red}保险丝\\text{保险丝：是用电阻率大，熔点低的铅锑合金制成。}$\n",
    "    - 它的作用是当电路中有过大的电流时，保险产生较多的热量，使它的温度达到熔点，从而熔断，自动切断电路，起到保险的作用。\n",
    "- 22.引起电路中电流过大的原因有两个：一是电路发生短路;二是用电器总功率过大。\n",
    "- 23.安全用电的原则是：①不接触低压带电体;②不靠近高压带电体。\n",
    "- 24.在安装电路时，要把电能表接在干路上，保险丝应接在火线上(一根足够);控制开关应串联在干路。"
   ]
  },
  {
   "cell_type": "markdown",
   "metadata": {},
   "source": [
    "# 触电情形\n",
    "- 说明\n",
    "    - 火线和零线间的电压为220V，火线和大地间的电压为220V，零线和大地间的电压为0V\n",
    "    \n",
    "\n",
    "- 会触电\n",
    "    - 站干椅子上一手火线，一手零线；\n",
    "    - 站大地上一手火线\n",
    "\n",
    "\n",
    "- 不会触电\n",
    "    - 干椅子上，一手火线\n",
    "    - 站大地上，手接触零线\n",
    "    - 小鸟双脚站在火线上\n",
    "\n",
    "\n",
    "- 触电解决方法"
   ]
  }
 ],
 "metadata": {
  "kernelspec": {
   "display_name": "Python 3",
   "language": "python",
   "name": "python3"
  },
  "language_info": {
   "codemirror_mode": {
    "name": "ipython",
    "version": 3
   },
   "file_extension": ".py",
   "mimetype": "text/x-python",
   "name": "python",
   "nbconvert_exporter": "python",
   "pygments_lexer": "ipython3",
   "version": "3.7.3"
  },
  "latex_envs": {
   "LaTeX_envs_menu_present": true,
   "autoclose": false,
   "autocomplete": true,
   "bibliofile": "biblio.bib",
   "cite_by": "apalike",
   "current_citInitial": 1,
   "eqLabelWithNumbers": true,
   "eqNumInitial": 1,
   "hotkeys": {
    "equation": "Ctrl-E",
    "itemize": "Ctrl-I"
   },
   "labels_anchors": false,
   "latex_user_defs": false,
   "report_style_numbering": false,
   "user_envs_cfg": false
  },
  "nbTranslate": {
   "displayLangs": [
    "*"
   ],
   "hotkey": "alt-t",
   "langInMainMenu": true,
   "sourceLang": "en",
   "targetLang": "fr",
   "useGoogleTranslate": true
  },
  "toc": {
   "base_numbering": 1,
   "nav_menu": {},
   "number_sections": true,
   "sideBar": true,
   "skip_h1_title": false,
   "title_cell": "Table of Contents",
   "title_sidebar": "Contents",
   "toc_cell": false,
   "toc_position": {},
   "toc_section_display": true,
   "toc_window_display": true
  }
 },
 "nbformat": 4,
 "nbformat_minor": 2
}
