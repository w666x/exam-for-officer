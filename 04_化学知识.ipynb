{
 "cells": [
  {
   "cell_type": "markdown",
   "metadata": {},
   "source": [
    "#### 金属燃烧的颜色"
   ]
  },
  {
   "cell_type": "markdown",
   "metadata": {},
   "source": [
    "[金属燃烧颜色口诀](http://www.chusan.com/zhongkao/86449.html) \\\n",
    "- 常见焰色反应的火焰颜色，**钠—黄**，锂—紫红，钙—砖红，锶—洋红，钾—浅紫，钡—黄绿，**铜—绿**\n",
    "- 口决一：钾紫钠黄（钳子夹）铷紫锂紫红，钙锶砖洋红（盖砖房，思洋房），钡铜黄绿绿（背黄驴）。 \n",
    "- 口决二：钾浅紫，钙砖红；钠黄镁铝无；钡黄绿，铜色绿；铁无锂紫红。 \n",
    "- 口诀三：钾紫钠黄锂紫红，铷紫铜绿钡黄绿，钙砖红，锶洋红，钴淡蓝，**铁无色**。"
   ]
  },
  {
   "cell_type": "markdown",
   "metadata": {},
   "source": [
    "#### 仙女棒烟花的主要成分"
   ]
  },
  {
   "cell_type": "markdown",
   "metadata": {},
   "source": [
    "- 发光效应是烟花药剂的一种主要效应。无论是能起照明作用的照明剂，还是能产生亮星的药剂，能产生一闪一熄的效果药剂，它们所产生的烟花效果都离不开发光效应。\n",
    "- 利用烟花药品剂燃烧后产生的发光效应，在药剂中如增加金属粉（如铝粉、镁铝合金粉等）在药剂燃烧时即可生成固体和液体生成物，则离解出大量的光能和热辐射，发光强度有数十万国际烛光，温度可达数千度。烟花药剂就是利用这种发光效应而起到照明作用的。再利用这种发光作用，可制造出大小不一和形状不同的各种照明灯（弹）。 \n",
    "- 当将硬木炭粉或铝粉、铁粉加入药剂中，燃烧后有一些颗粒在光截体中没有完全燃尽被喷出，这些被喷出的颗粒再遇见空气中的氧，就会发生第二次燃烧反应，从而产生不同颜色和一定亮度。**硬木炭粉可产生金黄色小星；铁粉可产生钢蓝小星；铝粉可产生白色小亮星**，利用喷波的作用，即可制造出各种烟花形象，如可制成金黄色、白色、钢蓝色的各种喷花；或能产生乱窜的蝌蚪游水般的零部件（称为曲率）以及翻跟头的部件（称为绣球）等等。 有的药剂被点燃后能强烈地燃烧产生一定亮变和光色，并产生一亮一熄的脉冲现象。这种效果我们称为闪烁，也是利用发光效应的一种。在药剂中除了加入金属粉外，还要加入易产生大量的固体和液体生成物的材料。这样即可使药剂燃烧后，由于有金属粉存在则会产生较高的温度和较大的亮度，当固体和液体的残渣覆盖下一层等待燃烧的药剂时，即会出现低温辐射给人一种熄灭的感觉。当下一层药剂被点燃后，又会产生高温和较大的亮度。紧接着又用固体和液体残渣覆盖再下一层的药剂，以此推类，则会出现一亮一灭的现象。我们利用这种一亮一熄的脉动现象，可制造出有如雪花飘飘、红星闪耀等烟花成品和各种零部件。要想获得美丽鲜艳的火焰，也必须加入一定量的金属粉。\n",
    "- **化学性活泼的金属如铝、镁、钛、锆等粉末。钠蒸气产生黄色光谱，于是便用草酸钠，氟化钠、冰晶石或硅氟酸钠等作为黄光发色剂；锶蒸气产生红色光谱，于是用硝酸锶、碳酸锶、草酸锶等可作为红光发色剂。其它如：绿光用氯酸钡、硝酸钡；蓝光用碳酸铜、孔雀石；金光用金粉，白光用铝粉等等。有了这些基本色，自然不难配出各种色彩来。看，节日的夜空多么美啊!在水里也可以燃烧是加有白磷白磷可以在水里燃烧**"
   ]
  },
  {
   "cell_type": "code",
   "execution_count": null,
   "metadata": {},
   "outputs": [],
   "source": []
  }
 ],
 "metadata": {
  "kernelspec": {
   "display_name": "Python 3",
   "language": "python",
   "name": "python3"
  },
  "language_info": {
   "codemirror_mode": {
    "name": "ipython",
    "version": 3
   },
   "file_extension": ".py",
   "mimetype": "text/x-python",
   "name": "python",
   "nbconvert_exporter": "python",
   "pygments_lexer": "ipython3",
   "version": "3.7.3"
  },
  "latex_envs": {
   "LaTeX_envs_menu_present": true,
   "autoclose": false,
   "autocomplete": true,
   "bibliofile": "biblio.bib",
   "cite_by": "apalike",
   "current_citInitial": 1,
   "eqLabelWithNumbers": true,
   "eqNumInitial": 1,
   "hotkeys": {
    "equation": "Ctrl-E",
    "itemize": "Ctrl-I"
   },
   "labels_anchors": false,
   "latex_user_defs": false,
   "report_style_numbering": false,
   "user_envs_cfg": false
  },
  "nbTranslate": {
   "displayLangs": [
    "*"
   ],
   "hotkey": "alt-t",
   "langInMainMenu": true,
   "sourceLang": "en",
   "targetLang": "fr",
   "useGoogleTranslate": true
  },
  "toc": {
   "base_numbering": 1,
   "nav_menu": {},
   "number_sections": true,
   "sideBar": true,
   "skip_h1_title": false,
   "title_cell": "Table of Contents",
   "title_sidebar": "Contents",
   "toc_cell": false,
   "toc_position": {},
   "toc_section_display": true,
   "toc_window_display": false
  }
 },
 "nbformat": 4,
 "nbformat_minor": 4
}
